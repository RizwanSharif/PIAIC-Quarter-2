{
 "cells": [
  {
   "cell_type": "code",
   "execution_count": 1,
   "metadata": {},
   "outputs": [],
   "source": [
    "# PIAIC Quarter 2 \n",
    "\n",
    "# Course : Artificial Intelligence\n",
    "# Name:    Rizwan Sharif\n",
    "# Session: 2\n",
    "# Roll No: PIAIC108021\n",
    "# Batch:   Batch 9\n",
    "# City:    Islamabad\n",
    "# Teacher: Sir Qasim"
   ]
  },
  {
   "cell_type": "markdown",
   "metadata": {},
   "source": [
    "# Assignment No: 01 => Implemantation of 50 functions or methods of NUMPY."
   ]
  },
  {
   "cell_type": "code",
   "execution_count": 6,
   "metadata": {},
   "outputs": [],
   "source": [
    "import numpy as np"
   ]
  },
  {
   "cell_type": "code",
   "execution_count": 31,
   "metadata": {},
   "outputs": [
    {
     "data": {
      "text/plain": [
       "array([[1, 2, 3],\n",
       "       [4, 5, 6]])"
      ]
     },
     "execution_count": 31,
     "metadata": {},
     "output_type": "execute_result"
    }
   ],
   "source": [
    "# Function - 01 : array()\n",
    "arr = [[1,2,3],[4,5,6]]\n",
    "a = np.array(arr) \n",
    "a"
   ]
  },
  {
   "cell_type": "code",
   "execution_count": 30,
   "metadata": {},
   "outputs": [
    {
     "data": {
      "text/plain": [
       "array([0, 1, 2, 3, 4])"
      ]
     },
     "execution_count": 30,
     "metadata": {},
     "output_type": "execute_result"
    }
   ],
   "source": [
    "# Function - 02 : arange()\n",
    "arr = np.arange(5)\n",
    "arr"
   ]
  },
  {
   "cell_type": "code",
   "execution_count": 29,
   "metadata": {},
   "outputs": [
    {
     "data": {
      "text/plain": [
       "array([0., 0., 0., 0., 0.])"
      ]
     },
     "execution_count": 29,
     "metadata": {},
     "output_type": "execute_result"
    }
   ],
   "source": [
    "# Function - 03 : zeros()\n",
    "arr = np.zeros(5)\n",
    "arr"
   ]
  },
  {
   "cell_type": "code",
   "execution_count": 28,
   "metadata": {},
   "outputs": [
    {
     "data": {
      "text/plain": [
       "array([1., 1., 1., 1., 1., 1., 1., 1., 1., 1.])"
      ]
     },
     "execution_count": 28,
     "metadata": {},
     "output_type": "execute_result"
    }
   ],
   "source": [
    "# Function - 04 : ones()\n",
    "arr = np.ones(10)\n",
    "arr"
   ]
  },
  {
   "cell_type": "code",
   "execution_count": 27,
   "metadata": {},
   "outputs": [
    {
     "data": {
      "text/plain": [
       "array([1.        , 1.14285714, 1.28571429, 1.42857143, 1.57142857,\n",
       "       1.71428571, 1.85714286, 2.        , 2.14285714, 2.28571429,\n",
       "       2.42857143, 2.57142857, 2.71428571, 2.85714286, 3.        ,\n",
       "       3.14285714, 3.28571429, 3.42857143, 3.57142857, 3.71428571,\n",
       "       3.85714286, 4.        , 4.14285714, 4.28571429, 4.42857143,\n",
       "       4.57142857, 4.71428571, 4.85714286, 5.        , 5.14285714,\n",
       "       5.28571429, 5.42857143, 5.57142857, 5.71428571, 5.85714286,\n",
       "       6.        , 6.14285714, 6.28571429, 6.42857143, 6.57142857,\n",
       "       6.71428571, 6.85714286, 7.        , 7.14285714, 7.28571429,\n",
       "       7.42857143, 7.57142857, 7.71428571, 7.85714286, 8.        ])"
      ]
     },
     "execution_count": 27,
     "metadata": {},
     "output_type": "execute_result"
    }
   ],
   "source": [
    "# Function - 05 : linspace()\n",
    "arr = np.linspace(1,8)\n",
    "arr"
   ]
  },
  {
   "cell_type": "code",
   "execution_count": 26,
   "metadata": {},
   "outputs": [
    {
     "data": {
      "text/plain": [
       "array([1.00000000e+01, 1.38949549e+01, 1.93069773e+01, 2.68269580e+01,\n",
       "       3.72759372e+01, 5.17947468e+01, 7.19685673e+01, 1.00000000e+02,\n",
       "       1.38949549e+02, 1.93069773e+02, 2.68269580e+02, 3.72759372e+02,\n",
       "       5.17947468e+02, 7.19685673e+02, 1.00000000e+03, 1.38949549e+03,\n",
       "       1.93069773e+03, 2.68269580e+03, 3.72759372e+03, 5.17947468e+03,\n",
       "       7.19685673e+03, 1.00000000e+04, 1.38949549e+04, 1.93069773e+04,\n",
       "       2.68269580e+04, 3.72759372e+04, 5.17947468e+04, 7.19685673e+04,\n",
       "       1.00000000e+05, 1.38949549e+05, 1.93069773e+05, 2.68269580e+05,\n",
       "       3.72759372e+05, 5.17947468e+05, 7.19685673e+05, 1.00000000e+06,\n",
       "       1.38949549e+06, 1.93069773e+06, 2.68269580e+06, 3.72759372e+06,\n",
       "       5.17947468e+06, 7.19685673e+06, 1.00000000e+07, 1.38949549e+07,\n",
       "       1.93069773e+07, 2.68269580e+07, 3.72759372e+07, 5.17947468e+07,\n",
       "       7.19685673e+07, 1.00000000e+08])"
      ]
     },
     "execution_count": 26,
     "metadata": {},
     "output_type": "execute_result"
    }
   ],
   "source": [
    "# Function - 06 : logspace()\n",
    "arr = np.logspace(1,8)\n",
    "arr"
   ]
  },
  {
   "cell_type": "code",
   "execution_count": 14,
   "metadata": {},
   "outputs": [
    {
     "data": {
      "text/plain": [
       "(15,)"
      ]
     },
     "execution_count": 14,
     "metadata": {},
     "output_type": "execute_result"
    }
   ],
   "source": [
    "# Function - 07 : shape()\n",
    "arr = np.array([1,2,3,4,5,6,7,8,9,10,11,12,13,14,15])\n",
    "arr.shape"
   ]
  },
  {
   "cell_type": "code",
   "execution_count": 25,
   "metadata": {},
   "outputs": [
    {
     "data": {
      "text/plain": [
       "array([0.16436803, 0.86622657, 0.03742869, 0.21764164, 0.98656115,\n",
       "       0.17284219, 0.1216038 , 0.5454636 , 0.42172443, 0.60825806])"
      ]
     },
     "execution_count": 25,
     "metadata": {},
     "output_type": "execute_result"
    }
   ],
   "source": [
    "# Function - 08 : rand()\n",
    "arr = np.random.rand(10)\n",
    "arr"
   ]
  },
  {
   "cell_type": "code",
   "execution_count": 24,
   "metadata": {},
   "outputs": [
    {
     "data": {
      "text/plain": [
       "array([16,  2,  5])"
      ]
     },
     "execution_count": 24,
     "metadata": {},
     "output_type": "execute_result"
    }
   ],
   "source": [
    "# Function - 09 : randint()\n",
    "arr = np.random.randint(1,20,3)\n",
    "arr"
   ]
  },
  {
   "cell_type": "code",
   "execution_count": 23,
   "metadata": {},
   "outputs": [
    {
     "data": {
      "text/plain": [
       "array([-3.78736149e-01, -3.33654326e-01,  2.75939161e-01,  6.09689256e-01,\n",
       "       -5.53163034e-02,  5.76118161e-01,  1.36339135e+00,  2.85748334e-01,\n",
       "       -5.13904370e-04,  1.89915637e+00])"
      ]
     },
     "execution_count": 23,
     "metadata": {},
     "output_type": "execute_result"
    }
   ],
   "source": [
    "# Function - 10 : randn()\n",
    "arr = np.random.randn(10)\n",
    "arr"
   ]
  },
  {
   "cell_type": "code",
   "execution_count": 22,
   "metadata": {},
   "outputs": [
    {
     "data": {
      "text/plain": [
       "array([[14, 90, 35],\n",
       "       [76, 75,  1],\n",
       "       [77, 14, 83],\n",
       "       [90, 36, 63]])"
      ]
     },
     "execution_count": 22,
     "metadata": {},
     "output_type": "execute_result"
    }
   ],
   "source": [
    "# Function - 11 : reshape()\n",
    "arr = np.random.randint(1,100,12)\n",
    "arr = arr.reshape(4,3)\n",
    "arr"
   ]
  },
  {
   "cell_type": "code",
   "execution_count": 21,
   "metadata": {},
   "outputs": [
    {
     "data": {
      "text/plain": [
       "array([76, 28,  7,  3,  4, 68, 77, 49, 23, 50, 53,  6])"
      ]
     },
     "execution_count": 21,
     "metadata": {},
     "output_type": "execute_result"
    }
   ],
   "source": [
    "# Function - 12 : seed()\n",
    "np.random.seed(12)\n",
    "arr = np.random.randint(1,100,12)\n",
    "arr"
   ]
  },
  {
   "cell_type": "code",
   "execution_count": 20,
   "metadata": {},
   "outputs": [
    {
     "name": "stdout",
     "output_type": "stream",
     "text": [
      "[1 2 3]\n",
      "[1 2 3]\n"
     ]
    }
   ],
   "source": [
    "# Function - 13 : copy()\n",
    "x = np.array([1, 2, 3])\n",
    "y = x\n",
    "z = np.copy(x)\n",
    "print(z)\n",
    "print(y)"
   ]
  },
  {
   "cell_type": "code",
   "execution_count": 32,
   "metadata": {},
   "outputs": [
    {
     "data": {
      "text/plain": [
       "array([[0., 0., 0., 0.],\n",
       "       [0., 0., 0., 0.],\n",
       "       [0., 0., 0., 0.]])"
      ]
     },
     "execution_count": 32,
     "metadata": {},
     "output_type": "execute_result"
    }
   ],
   "source": [
    "# Function - 14 : empty()\n",
    "arr = np.empty((3,4))\n",
    "arr"
   ]
  },
  {
   "cell_type": "code",
   "execution_count": 33,
   "metadata": {},
   "outputs": [
    {
     "data": {
      "text/plain": [
       "21"
      ]
     },
     "execution_count": 33,
     "metadata": {},
     "output_type": "execute_result"
    }
   ],
   "source": [
    "# Function - 15 : sum()\n",
    "arr = np.array([1,2,3,4,5,6])\n",
    "arr.sum()"
   ]
  },
  {
   "cell_type": "code",
   "execution_count": 34,
   "metadata": {},
   "outputs": [
    {
     "data": {
      "text/plain": [
       "60"
      ]
     },
     "execution_count": 34,
     "metadata": {},
     "output_type": "execute_result"
    }
   ],
   "source": [
    "# Function - 16 : max()\n",
    "arr = np.array([10,20,30,40,50,60])\n",
    "b = max(arr)\n",
    "b"
   ]
  },
  {
   "cell_type": "code",
   "execution_count": 35,
   "metadata": {},
   "outputs": [
    {
     "data": {
      "text/plain": [
       "10"
      ]
     },
     "execution_count": 35,
     "metadata": {},
     "output_type": "execute_result"
    }
   ],
   "source": [
    "# Function - 17 : min()\n",
    "arr = np.array([10,20,30,40,50,60])\n",
    "b = min(arr)\n",
    "b"
   ]
  },
  {
   "cell_type": "code",
   "execution_count": 36,
   "metadata": {},
   "outputs": [
    {
     "data": {
      "text/plain": [
       "0"
      ]
     },
     "execution_count": 36,
     "metadata": {},
     "output_type": "execute_result"
    }
   ],
   "source": [
    "# Function - 18 : argmin()\n",
    "arr = np.array([10,20,30,40,50,60])\n",
    "np.argmin(arr)"
   ]
  },
  {
   "cell_type": "code",
   "execution_count": 37,
   "metadata": {},
   "outputs": [
    {
     "data": {
      "text/plain": [
       "5"
      ]
     },
     "execution_count": 37,
     "metadata": {},
     "output_type": "execute_result"
    }
   ],
   "source": [
    "# Function - 19 : argmax()\n",
    "arr = np.array([10,20,30,40,50,60])\n",
    "np.argmax(arr)"
   ]
  },
  {
   "cell_type": "code",
   "execution_count": 38,
   "metadata": {},
   "outputs": [
    {
     "data": {
      "text/plain": [
       "array([3.16227766, 4.47213595, 5.47722558, 6.32455532, 7.07106781,\n",
       "       7.74596669])"
      ]
     },
     "execution_count": 38,
     "metadata": {},
     "output_type": "execute_result"
    }
   ],
   "source": [
    "# Function - 20 : sqrt()\n",
    "arr = np.array([10,20,30,40,50,60])\n",
    "np.sqrt(arr)"
   ]
  },
  {
   "cell_type": "code",
   "execution_count": 39,
   "metadata": {},
   "outputs": [
    {
     "data": {
      "text/plain": [
       "array([-0.54402111,  0.91294525, -0.98803162,  0.74511316, -0.26237485,\n",
       "       -0.30481062])"
      ]
     },
     "execution_count": 39,
     "metadata": {},
     "output_type": "execute_result"
    }
   ],
   "source": [
    "# Function - 21 : sin()\n",
    "arr = np.array([10,20,30,40,50,60])\n",
    "np.sin(arr)"
   ]
  },
  {
   "cell_type": "code",
   "execution_count": 40,
   "metadata": {},
   "outputs": [
    {
     "data": {
      "text/plain": [
       "array([-0.83907153,  0.40808206,  0.15425145, -0.66693806,  0.96496603,\n",
       "       -0.95241298])"
      ]
     },
     "execution_count": 40,
     "metadata": {},
     "output_type": "execute_result"
    }
   ],
   "source": [
    "# Function - 22 : cos()\n",
    "arr = np.array([10,20,30,40,50,60])\n",
    "np.cos(arr)"
   ]
  },
  {
   "cell_type": "code",
   "execution_count": 41,
   "metadata": {},
   "outputs": [
    {
     "data": {
      "text/plain": [
       "array([ 3,  6, 49, 28, 53,  4, 23, 68, 76, 77,  7, 50])"
      ]
     },
     "execution_count": 41,
     "metadata": {},
     "output_type": "execute_result"
    }
   ],
   "source": [
    "# Function - 23 : shuffle()\n",
    "np.random.seed(12)\n",
    "arr = np.random.randint(1,100,12)\n",
    "np.random.shuffle(arr)\n",
    "arr"
   ]
  },
  {
   "cell_type": "code",
   "execution_count": 42,
   "metadata": {},
   "outputs": [
    {
     "data": {
      "text/plain": [
       "array([76, 28,  7,  3,  4, 68, 77, 49, 23, 50, 53,  6])"
      ]
     },
     "execution_count": 42,
     "metadata": {},
     "output_type": "execute_result"
    }
   ],
   "source": [
    "# Function - 24 : unique()\n",
    "np.random.seed(12)\n",
    "arr = np.random.randint(1,100,12)\n",
    "np.unique(arr)\n",
    "arr"
   ]
  },
  {
   "cell_type": "code",
   "execution_count": 43,
   "metadata": {},
   "outputs": [
    {
     "data": {
      "text/plain": [
       "array([1, 2, 3, 4, 5, 6, 7, 8])"
      ]
     },
     "execution_count": 43,
     "metadata": {},
     "output_type": "execute_result"
    }
   ],
   "source": [
    "# Function - 25 : hstack()\n",
    "arr1 = np.array([1,2,3,4])\n",
    "arr2 = np.array([5,6,7,8])\n",
    "np.hstack((arr1,arr2))"
   ]
  },
  {
   "cell_type": "code",
   "execution_count": 44,
   "metadata": {},
   "outputs": [
    {
     "data": {
      "text/plain": [
       "array([[1, 2, 3, 4],\n",
       "       [5, 6, 7, 8]])"
      ]
     },
     "execution_count": 44,
     "metadata": {},
     "output_type": "execute_result"
    }
   ],
   "source": [
    "# Function - 26 : vstack()\n",
    "arr1 = np.array([1,2,3,4])\n",
    "arr2 = np.array([5,6,7,8])\n",
    "np.vstack((arr1,arr2))"
   ]
  },
  {
   "cell_type": "code",
   "execution_count": 45,
   "metadata": {},
   "outputs": [
    {
     "data": {
      "text/plain": [
       "array([[1., 0., 0., 0., 0.],\n",
       "       [0., 1., 0., 0., 0.],\n",
       "       [0., 0., 1., 0., 0.],\n",
       "       [0., 0., 0., 1., 0.],\n",
       "       [0., 0., 0., 0., 1.]])"
      ]
     },
     "execution_count": 45,
     "metadata": {},
     "output_type": "execute_result"
    }
   ],
   "source": [
    "# Function - 26 : identity()\n",
    "arr = np.identity(5)\n",
    "arr"
   ]
  },
  {
   "cell_type": "code",
   "execution_count": 46,
   "metadata": {},
   "outputs": [
    {
     "data": {
      "text/plain": [
       "array([ 0,  1,  2,  3,  4,  5,  6,  7,  8,  9, 10, 11, 12, 13, 14],\n",
       "      dtype=int64)"
      ]
     },
     "execution_count": 46,
     "metadata": {},
     "output_type": "execute_result"
    }
   ],
   "source": [
    "# Function - 27 : argsort()\n",
    "arr = np.array([1,2,3,4,5,6,7,8,9,10,11,12,13,14,15])\n",
    "arr2 = np.argsort(arr)\n",
    "arr2"
   ]
  },
  {
   "cell_type": "code",
   "execution_count": 48,
   "metadata": {},
   "outputs": [
    {
     "data": {
      "text/plain": [
       "5"
      ]
     },
     "execution_count": 48,
     "metadata": {},
     "output_type": "execute_result"
    }
   ],
   "source": [
    "# Function - 28 : maxx()\n",
    "def maxx(x, y):\n",
    "    \n",
    "    if x >= y:\n",
    "        return x\n",
    "    else:\n",
    "        return y\n",
    "\n",
    "maxx(1, 5)"
   ]
  },
  {
   "cell_type": "code",
   "execution_count": 49,
   "metadata": {},
   "outputs": [
    {
     "data": {
      "text/plain": [
       "array([[1., 0., 0., 0., 0.],\n",
       "       [0., 1., 0., 0., 0.],\n",
       "       [0., 0., 1., 0., 0.]])"
      ]
     },
     "execution_count": 49,
     "metadata": {},
     "output_type": "execute_result"
    }
   ],
   "source": [
    "# Function - 29 : eye()\n",
    "arr = np.eye(3,5)\n",
    "arr"
   ]
  },
  {
   "cell_type": "code",
   "execution_count": 50,
   "metadata": {},
   "outputs": [
    {
     "data": {
      "text/plain": [
       "array([[1, 0, 0, 0],\n",
       "       [0, 3, 0, 0],\n",
       "       [0, 0, 5, 0],\n",
       "       [0, 0, 0, 7]])"
      ]
     },
     "execution_count": 50,
     "metadata": {},
     "output_type": "execute_result"
    }
   ],
   "source": [
    "# Function - 30 : diag()\n",
    "arr = np.diag([1,3,5,7])\n",
    "arr"
   ]
  },
  {
   "cell_type": "code",
   "execution_count": 51,
   "metadata": {},
   "outputs": [
    {
     "data": {
      "text/plain": [
       "array([1, 1, 1, 2, 2, 2, 3, 3, 3, 4, 4, 4, 5, 5, 5, 6, 6, 6])"
      ]
     },
     "execution_count": 51,
     "metadata": {},
     "output_type": "execute_result"
    }
   ],
   "source": [
    "# Function - 31 : repeat()\n",
    "arr = np.array([1,2,3,4,5,6])\n",
    "np.repeat(arr,3)"
   ]
  },
  {
   "cell_type": "code",
   "execution_count": 52,
   "metadata": {},
   "outputs": [
    {
     "data": {
      "text/plain": [
       "array([1, 2, 3, 4, 5, 6, 1, 2, 3, 4, 5, 6, 1, 2, 3, 4, 5, 6])"
      ]
     },
     "execution_count": 52,
     "metadata": {},
     "output_type": "execute_result"
    }
   ],
   "source": [
    "# Function - 32 : tile()\n",
    "arr = np.array([1,2,3,4,5,6])\n",
    "np.tile(arr,3)"
   ]
  },
  {
   "cell_type": "code",
   "execution_count": 53,
   "metadata": {},
   "outputs": [
    {
     "data": {
      "text/plain": [
       "4.0"
      ]
     },
     "execution_count": 53,
     "metadata": {},
     "output_type": "execute_result"
    }
   ],
   "source": [
    "# Function - 33 : mean()\n",
    "arr = np.array([1,2,3,4,5,6,7])\n",
    "arr.mean()"
   ]
  },
  {
   "cell_type": "code",
   "execution_count": 54,
   "metadata": {},
   "outputs": [
    {
     "data": {
      "text/plain": [
       "array([ 1,  3,  6, 10, 15, 21, 28], dtype=int32)"
      ]
     },
     "execution_count": 54,
     "metadata": {},
     "output_type": "execute_result"
    }
   ],
   "source": [
    "# Function - 34 : cumsum()\n",
    "arr = np.array([1,2,3,4,5,6,7])\n",
    "arr.cumsum()"
   ]
  },
  {
   "cell_type": "code",
   "execution_count": 55,
   "metadata": {},
   "outputs": [
    {
     "data": {
      "text/plain": [
       "array([   1,    2,    6,   24,  120,  720, 5040], dtype=int32)"
      ]
     },
     "execution_count": 55,
     "metadata": {},
     "output_type": "execute_result"
    }
   ],
   "source": [
    "# Function - 35 : cumprod()\n",
    "arr = np.array([1,2,3,4,5,6,7])\n",
    "arr.cumprod()"
   ]
  },
  {
   "cell_type": "code",
   "execution_count": 56,
   "metadata": {},
   "outputs": [
    {
     "data": {
      "text/plain": [
       "array([[-0.23073975,  0.28285961,  0.2974844 ],\n",
       "       [ 0.83620506, -0.09911412,  0.18045394],\n",
       "       [ 3.62802811, -0.62535829,  0.51744362]])"
      ]
     },
     "execution_count": 56,
     "metadata": {},
     "output_type": "execute_result"
    }
   ],
   "source": [
    "# Function - 36 : dot()\n",
    "arr1 = np.random.randn(3,2)\n",
    "arr2 = np.random.randn(2,3)\n",
    "arr1.dot(arr2)"
   ]
  },
  {
   "cell_type": "code",
   "execution_count": 57,
   "metadata": {},
   "outputs": [
    {
     "data": {
      "text/plain": [
       "array([[-0.34018626, -0.58108011,  0.91056528],\n",
       "       [ 2.02729871,  0.87313484,  1.04764561]])"
      ]
     },
     "execution_count": 57,
     "metadata": {},
     "output_type": "execute_result"
    }
   ],
   "source": [
    "# Function - 37 : transpose()\n",
    "arr1 = np.random.randn(3,2)\n",
    "arr2 = np.random.randn(2,3)\n",
    "arr1.transpose()"
   ]
  },
  {
   "cell_type": "code",
   "execution_count": 58,
   "metadata": {},
   "outputs": [
    {
     "data": {
      "text/plain": [
       "-1.7120792337271764"
      ]
     },
     "execution_count": 58,
     "metadata": {},
     "output_type": "execute_result"
    }
   ],
   "source": [
    "# Function - 38 : trace()\n",
    "arr1 = np.random.randn(3,2)\n",
    "arr2 = np.random.randn(2,3)\n",
    "arr1.trace()"
   ]
  },
  {
   "cell_type": "code",
   "execution_count": 67,
   "metadata": {},
   "outputs": [
    {
     "data": {
      "text/plain": [
       "[array([1, 2, 3]), array([4, 5, 6]), array([7, 8, 9]), array([10, 11, 12])]"
      ]
     },
     "execution_count": 67,
     "metadata": {},
     "output_type": "execute_result"
    }
   ],
   "source": [
    "# Function - 39 : split()\n",
    "arr = np.array([1,2,3,4,5,6,7,8,9,10,11,12])\n",
    "np.split(arr, 4)"
   ]
  },
  {
   "cell_type": "code",
   "execution_count": 68,
   "metadata": {},
   "outputs": [
    {
     "data": {
      "text/plain": [
       "[array([1, 2, 3, 4, 5]), array([ 6,  7,  8,  9, 10]), array([11, 12, 13, 14])]"
      ]
     },
     "execution_count": 68,
     "metadata": {},
     "output_type": "execute_result"
    }
   ],
   "source": [
    "# Function - 40 : array_split()\n",
    "arr = np.array([1,2,3,4,5,6,7,8,9,10,11,12,13,14])\n",
    "np.array_split(arr, 3)"
   ]
  },
  {
   "cell_type": "code",
   "execution_count": 70,
   "metadata": {},
   "outputs": [
    {
     "data": {
      "text/plain": [
       "[array([1, 2, 3, 4, 5, 6, 7]), array([ 8,  9, 10, 11, 12, 13, 14])]"
      ]
     },
     "execution_count": 70,
     "metadata": {},
     "output_type": "execute_result"
    }
   ],
   "source": [
    "# Function - 41 : hsplit()\n",
    "arr = np.array([1,2,3,4,5,6,7,8,9,10,11,12,13,14])\n",
    "np.hsplit(arr, 2)"
   ]
  },
  {
   "cell_type": "code",
   "execution_count": 86,
   "metadata": {},
   "outputs": [
    {
     "data": {
      "text/plain": [
       "[array([[0, 1, 2]]), array([[3, 4, 5]])]"
      ]
     },
     "execution_count": 86,
     "metadata": {},
     "output_type": "execute_result"
    }
   ],
   "source": [
    "# Function - 42 : vsplit()\n",
    "# vsplit is possible 2 or more dimension \n",
    "arr = np.array([0,1,2,3,4,5,6,7,8,9])\n",
    "\n",
    "c = np.arange(6).reshape(2,3)\n",
    "res = np.vsplit(c, 2)\n",
    "res"
   ]
  },
  {
   "cell_type": "code",
   "execution_count": 87,
   "metadata": {},
   "outputs": [
    {
     "data": {
      "text/plain": [
       "array([[1.00000000e+00, 1.11022302e-16],\n",
       "       [0.00000000e+00, 1.00000000e+00]])"
      ]
     },
     "execution_count": 87,
     "metadata": {},
     "output_type": "execute_result"
    }
   ],
   "source": [
    "# Function - 43 : linalg.inv()\n",
    "x = np.array([[1,2],[3,4]]) \n",
    "y = np.linalg.inv(x) \n",
    "\n",
    "np.dot(x,y)"
   ]
  },
  {
   "cell_type": "code",
   "execution_count": 88,
   "metadata": {},
   "outputs": [
    {
     "data": {
      "text/plain": [
       "(array([[-0.60971076, -0.79262399],\n",
       "        [-0.79262399,  0.60971076]]),\n",
       " array([[-16.40121947, -18.16938067],\n",
       "        [  0.        , -13.7794632 ]]))"
      ]
     },
     "execution_count": 88,
     "metadata": {},
     "output_type": "execute_result"
    }
   ],
   "source": [
    "# Function - 44 : qr()\n",
    "arr = np.array([[10,22],[13,6]]) \n",
    "np.linalg.qr(arr) "
   ]
  },
  {
   "cell_type": "code",
   "execution_count": 89,
   "metadata": {},
   "outputs": [
    {
     "name": "stdout",
     "output_type": "stream",
     "text": [
      "[[3 4 5]\n",
      " [1 2 3]\n",
      " [2 4 5]]\n",
      "[9 8 7]\n"
     ]
    }
   ],
   "source": [
    "# Function - 45 : solve()\n",
    "A = np.array([[3, 4, 5], [1, 2, 3], [2, 4, 5]])\n",
    "B = np.array([9, 8, 7])\n",
    "print(A)\n",
    "print(B)\n",
    "\n",
    "ans = np.linalg.solve(A, B)"
   ]
  },
  {
   "cell_type": "code",
   "execution_count": 90,
   "metadata": {},
   "outputs": [
    {
     "data": {
      "text/plain": [
       "array([ 0.,  2.,  2.,  4.,  4., 10.])"
      ]
     },
     "execution_count": 90,
     "metadata": {},
     "output_type": "execute_result"
    }
   ],
   "source": [
    "# Function - 46 : around()\n",
    "arr = [.5, 1.5, 2.5, 3.5, 4.5, 10.1]\n",
    " \n",
    "np.around(arr)"
   ]
  },
  {
   "cell_type": "code",
   "execution_count": 91,
   "metadata": {},
   "outputs": [
    {
     "data": {
      "text/plain": [
       "array([ 0.,  2.,  2.,  4.,  4., 10.])"
      ]
     },
     "execution_count": 91,
     "metadata": {},
     "output_type": "execute_result"
    }
   ],
   "source": [
    "# Function - 47 : round()\n",
    "arr = [.5, 1.5, 2.5, 3.5, 4.5, 10.1]\n",
    " \n",
    "np.round(arr)"
   ]
  },
  {
   "cell_type": "code",
   "execution_count": 92,
   "metadata": {},
   "outputs": [
    {
     "data": {
      "text/plain": [
       "array([ 0.,  1.,  2.,  3.,  4., 10.])"
      ]
     },
     "execution_count": 92,
     "metadata": {},
     "output_type": "execute_result"
    }
   ],
   "source": [
    "# Function - 48 : floor()\n",
    "arr = [.5, 1.5, 2.5, 3.5, 4.5, 10.1]\n",
    " \n",
    "np.floor(arr)"
   ]
  },
  {
   "cell_type": "code",
   "execution_count": 93,
   "metadata": {},
   "outputs": [
    {
     "data": {
      "text/plain": [
       "array([ 1.,  2.,  3.,  4.,  5., 11.])"
      ]
     },
     "execution_count": 93,
     "metadata": {},
     "output_type": "execute_result"
    }
   ],
   "source": [
    "# Function - 49 : ceil()\n",
    "arr = [.5, 1.5, 2.5, 3.5, 4.5, 10.1]\n",
    " \n",
    "np.ceil(arr)"
   ]
  },
  {
   "cell_type": "code",
   "execution_count": 94,
   "metadata": {},
   "outputs": [
    {
     "data": {
      "text/plain": [
       "array([ 0.,  2.,  2.,  4.,  4., 10.])"
      ]
     },
     "execution_count": 94,
     "metadata": {},
     "output_type": "execute_result"
    }
   ],
   "source": [
    "# Function - 50 : rint()\n",
    "arr = [.5, 1.5, 2.5, 3.5, 4.5, 10.1]\n",
    " \n",
    "np.rint(arr)"
   ]
  },
  {
   "cell_type": "code",
   "execution_count": null,
   "metadata": {},
   "outputs": [],
   "source": [
    "# THE END"
   ]
  }
 ],
 "metadata": {
  "kernelspec": {
   "display_name": "Python 3",
   "language": "python",
   "name": "python3"
  },
  "language_info": {
   "codemirror_mode": {
    "name": "ipython",
    "version": 3
   },
   "file_extension": ".py",
   "mimetype": "text/x-python",
   "name": "python",
   "nbconvert_exporter": "python",
   "pygments_lexer": "ipython3",
   "version": "3.7.6"
  }
 },
 "nbformat": 4,
 "nbformat_minor": 4
}
